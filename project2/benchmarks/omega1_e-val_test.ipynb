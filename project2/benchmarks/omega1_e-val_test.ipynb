{
 "cells": [
  {
   "cell_type": "code",
   "execution_count": 1,
   "metadata": {
    "collapsed": false
   },
   "outputs": [],
   "source": [
    "import matplotlib.pyplot as plt \n",
    "%matplotlib inline \n",
    "import numpy as np \n",
    "import math\n",
    "import time \n",
    "from scipy import linalg as la\n"
   ]
  },
  {
   "cell_type": "code",
   "execution_count": 5,
   "metadata": {
    "collapsed": false
   },
   "outputs": [
    {
     "name": "stdout",
     "output_type": "stream",
     "text": [
      "[  3.00149293e+00+0.j   7.00346265e+00+0.j   1.10054073e+01+0.j ...,\n",
      "   1.60061737e+05+0.j   1.60071223e+05+0.j   1.60083267e+05+0.j] 3.8390562534332275\n"
     ]
    }
   ],
   "source": [
    "n = 2000\n",
    "\n",
    "#(p0,pmax,n)\n",
    "p = np.linspace(0,10, num = n)\n",
    "\n",
    "hh = (n/(p[-1] - p[0]))**2\n",
    "hh2 = 2*hh\n",
    "#this cuts off the endpoints \n",
    "A = np.zeros(shape = (n-1,n-1))\n",
    "V = np.zeros(n+1)\n",
    "\n",
    "#initialize \n",
    "starttime = time.time()\n",
    "\n",
    "for i in range(n):\n",
    "    V[i] = p[i]**2\n",
    "\n",
    "for i in range(n-1):\n",
    "        A[i][i] = hh2+V[i+1]\n",
    "#we evaluate v[i+1] so that we avoid the 0 point \n",
    "#dont overwrite (n-2)\n",
    "for i in range(n-2):\n",
    "        A[i+1][i]= A[i][i+1] = -hh\n",
    "\n",
    "\n",
    "\n",
    "\n",
    "\n",
    "\n",
    "\n",
    "\n",
    "evals = la.eigvals(A)\n",
    "#print(evals)\n",
    "total = time.time()-starttime\n",
    "\n",
    "s = np.sort(evals)\n",
    "print(s,total)\n",
    "\n"
   ]
  },
  {
   "cell_type": "markdown",
   "metadata": {
    "collapsed": false
   },
   "source": [
    "This is the expected set of eigen-values for the harmonic oscilator potential. This was solved usiong a linalg eigen value solver. Tis confirms that the matrices and indices are set up correctly allowing us to move foreward with developign the code for the jacobi method for solving the E-values. "
   ]
  },
  {
   "cell_type": "code",
   "execution_count": null,
   "metadata": {
    "collapsed": true
   },
   "outputs": [],
   "source": []
  }
 ],
 "metadata": {
  "anaconda-cloud": {},
  "kernelspec": {
   "display_name": "Python [conda root]",
   "language": "python",
   "name": "conda-root-py"
  },
  "language_info": {
   "codemirror_mode": {
    "name": "ipython",
    "version": 3
   },
   "file_extension": ".py",
   "mimetype": "text/x-python",
   "name": "python",
   "nbconvert_exporter": "python",
   "pygments_lexer": "ipython3",
   "version": "3.5.2"
  }
 },
 "nbformat": 4,
 "nbformat_minor": 1
}
