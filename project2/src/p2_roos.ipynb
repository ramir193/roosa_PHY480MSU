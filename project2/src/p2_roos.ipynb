{
 "cells": [
  {
   "cell_type": "code",
   "execution_count": 1,
   "metadata": {
    "collapsed": false
   },
   "outputs": [],
   "source": [
    "import matplotlib.pyplot as plt \n",
    "%matplotlib inline \n",
    "import numpy as np \n",
    "import math\n",
    "import time \n",
    "from scipy import linalg as la\n"
   ]
  },
  {
   "cell_type": "code",
   "execution_count": 2,
   "metadata": {
    "collapsed": false
   },
   "outputs": [
    {
     "name": "stdout",
     "output_type": "stream",
     "text": [
      "[  3.00149293e+00+0.j   7.00346265e+00+0.j   1.10054073e+01+0.j ...,\n",
      "   1.60061737e+05+0.j   1.60071223e+05+0.j   1.60083267e+05+0.j]\n"
     ]
    }
   ],
   "source": [
    "n = 2000\n",
    "\n",
    "#(p0,pmax,n)\n",
    "p = np.linspace(0,10, num = n)\n",
    "\n",
    "hh = (n/(p[-1] - p[0]))**2\n",
    "hh2 = 2*hh\n",
    "#this cuts off the endpoints \n",
    "A = np.zeros(shape = (n-1,n-1))\n",
    "V = np.zeros(n+1)\n",
    "\n",
    "#initialize \n",
    "starttime = time.time()\n",
    "\n",
    "for i in range(n):\n",
    "    V[i] = p[i]**2\n",
    "\n",
    "for i in range(n-1):\n",
    "        A[i][i] = hh2+V[i+1]\n",
    "#we evaluate v[i+1] so that we avoid the 0 point \n",
    "#dont overwrite (n-2)\n",
    "for i in range(n-2):\n",
    "        A[i+1][i]= A[i][i+1] = -hh\n",
    "\n",
    "\n",
    "\n",
    "\n",
    "\n",
    "\n",
    "\n",
    "\n",
    "evals = la.eigvals(A)\n",
    "#print(evals)\n",
    "total = time.time()-starttime\n",
    "\n",
    "s = np.sort(evals)\n",
    "print(s)\n",
    "\n"
   ]
  },
  {
   "cell_type": "code",
   "execution_count": null,
   "metadata": {
    "collapsed": false
   },
   "outputs": [],
   "source": []
  },
  {
   "cell_type": "code",
   "execution_count": 3,
   "metadata": {
    "collapsed": false
   },
   "outputs": [
    {
     "name": "stdout",
     "output_type": "stream",
     "text": [
      "[   4.08047893+0.j    7.96091601+0.j   11.88886876+0.j   15.83369908+0.j\n",
      "   19.78360474+0.j   23.73291752+0.j   27.67850835+0.j   31.61847457+0.j\n",
      "   35.55157328+0.j   39.47694570+0.j   43.39397079+0.j   47.30218195+0.j\n",
      "   51.20121682+0.j   55.09078575+0.j   58.97065117+0.j   62.84061368+0.j\n",
      "   66.70050251+0.j   70.55017034+0.j   74.38950228+0.j   78.21850868+0.j\n",
      "   82.03784153+0.j   85.85088776+0.j   89.66958171+0.j   93.52339451+0.j\n",
      "   97.46096887+0.j  101.53341167+0.j  105.77305653+0.j  110.18910362+0.j\n",
      "  114.77651606+0.j  119.52484870+0.j  124.42271116+0.j  129.45929979+0.j\n",
      "  134.62470249+0.j  139.90981432+0.j  145.30617142+0.j  150.80579578+0.j\n",
      "  156.40107123+0.j  162.08464937+0.j  167.84937958+0.j  173.68825713+0.j\n",
      "  179.59438486+0.j  185.56094482+0.j  191.58117731+0.j  197.64836557+0.j\n",
      "  203.75582463+0.j  209.89689332+0.j  216.06492883+0.j  222.25330306+0.j\n",
      "  228.45540048+0.j  234.66461703+0.j  240.87435990+0.j  247.07804788+0.j\n",
      "  253.26911210+0.j  259.44099709+0.j  265.58716188+0.j  271.70108101+0.j\n",
      "  277.77624547+0.j  283.80616321+0.j  289.78435918+0.j  295.70437473+0.j\n",
      "  301.55976608+0.j  307.34410174+0.j  313.05095839+0.j  318.67391509+0.j\n",
      "  324.20654508+0.j  329.64240475+0.j  334.97501886+0.j  340.19786092+0.j\n",
      "  345.30432729+0.j  350.28770294+0.j  355.14111583+0.j  359.85747585+0.j\n",
      "  364.42939192+0.j  368.84905749+0.j  373.10808909+0.j  377.19729199+0.j\n",
      "  381.10630733+0.j  384.82305464+0.j  388.33278966+0.j  391.61634663+0.j\n",
      "  394.64623292+0.j  397.37460264+0.j  399.70577033+0.j  401.72160040+0.j\n",
      "  404.01658133+0.j  406.77829218+0.j  409.91828723+0.j  413.39762901+0.j\n",
      "  417.20806651+0.j  421.35657989+0.j  425.86158932+0.j  430.75299793+0.j\n",
      "  436.07462201+0.j  441.88944686+0.j  448.28971366+0.j  455.41711904+0.j\n",
      "  463.50824134+0.j  473.01943330+0.j  485.13076365+0.j]\n"
     ]
    },
    {
     "name": "stderr",
     "output_type": "stream",
     "text": [
      "/home/mroosa/anaconda3/lib/python3.5/site-packages/ipykernel/__main__.py:16: RuntimeWarning: divide by zero encountered in double_scalars\n"
     ]
    }
   ],
   "source": [
    "#(p0,pmax,n)\n",
    "n=100\n",
    "#\n",
    "p = np.linspace(0,10, num = n)\n",
    "\n",
    "hh = (n/(p[-1] - p[0]))**2\n",
    "hh2 = 2*hh\n",
    "#this cuts off the endpoints \n",
    "A = np.zeros(shape = (n-1,n-1))\n",
    "V = np.zeros(n+1)\n",
    "\n",
    "#initialize \n",
    "starttime = time.time()\n",
    "\n",
    "for i in range(n):\n",
    "    V[i] = (p[i]**2)+(p[i]**(-1))\n",
    "\n",
    "for i in range(n-1):\n",
    "        A[i][i] = hh2+V[i+1]\n",
    "#we evaluate v[i+1] so that we avoid the 0 point \n",
    "#dont overwrite (n-2)\n",
    "for i in range(n-2):\n",
    "        A[i+1][i]= A[i][i+1] = -hh\n",
    "        \n",
    "evals = la.eigvals(A)\n",
    "#print(evals)\n",
    "total = time.time()-starttime\n",
    "\n",
    "s = np.sort(evals)\n",
    "print(s)\n"
   ]
  },
  {
   "cell_type": "code",
   "execution_count": null,
   "metadata": {
    "collapsed": true
   },
   "outputs": [],
   "source": []
  }
 ],
 "metadata": {
  "anaconda-cloud": {},
  "kernelspec": {
   "display_name": "Python [conda root]",
   "language": "python",
   "name": "conda-root-py"
  },
  "language_info": {
   "codemirror_mode": {
    "name": "ipython",
    "version": 3
   },
   "file_extension": ".py",
   "mimetype": "text/x-python",
   "name": "python",
   "nbconvert_exporter": "python",
   "pygments_lexer": "ipython3",
   "version": "3.5.2"
  }
 },
 "nbformat": 4,
 "nbformat_minor": 1
}
