{
 "cells": [
  {
   "cell_type": "code",
   "execution_count": 1,
   "metadata": {
    "collapsed": true
   },
   "outputs": [],
   "source": [
    "import math \n",
    "import matplotlib.pyplot as plt\n",
    "%matplotlib inline \n",
    "import numpy as np \n",
    "\n",
    "\n",
    "def ff(x):\n",
    "    return 100*math.exp(-10*x)\n",
    "def exact(x):\n",
    "    return 1-(1-math.exp(-10))*x-math.exp(-10*x)"
   ]
  },
  {
   "cell_type": "code",
   "execution_count": 2,
   "metadata": {
    "collapsed": false
   },
   "outputs": [],
   "source": [
    "def err(a): \n",
    "    n = 2**a\n",
    "    h  = 1/n\n",
    "    hh = h*h\n",
    "    d  = np.linspace(0,n,n+1)\n",
    "    e  = np.linspace(0,n-2,n-1)#errs\n",
    "    f  = np.linspace(0,n,n+1)\n",
    "    x  = np.linspace(0,n,n+1)\n",
    "    u  = np.linspace(0,n,n+1)\n",
    "\n",
    "    u[0]=u[n]=0\n",
    "    d[0]=d[n]=2\n",
    "\n",
    "\n",
    "\n",
    "\n",
    "    for i in range(0,n+1):\n",
    "        x[i] = i*h\n",
    "        f[i] = hh*ff(i*h);\n",
    "    for i in range(1,n):\n",
    "        d[i] = (i+1)/i\n",
    "    for i in range(2,n):\n",
    "        f[i] += f[i-1]/d[i-1]\n",
    "    u[n-1] = f[n-1]/d[n-1]\n",
    "    for i in range(n-1,0,-1):\n",
    "        u[i] = (f[i]+u[i+1])/d[i]\n",
    "    i=1 \n",
    "    e[i-1] = math.log10(abs(u[i]-exact(x[i]))/exact(x[i]))\n",
    "    return e[0]"
   ]
  },
  {
   "cell_type": "code",
   "execution_count": null,
   "metadata": {
    "collapsed": true
   },
   "outputs": [],
   "source": []
  },
  {
   "cell_type": "code",
   "execution_count": null,
   "metadata": {
    "collapsed": true
   },
   "outputs": [],
   "source": []
  },
  {
   "cell_type": "code",
   "execution_count": 6,
   "metadata": {
    "collapsed": false
   },
   "outputs": [
    {
     "data": {
      "text/plain": [
       "<matplotlib.text.Text at 0x7f9653c02c18>"
      ]
     },
     "execution_count": 6,
     "metadata": {},
     "output_type": "execute_result"
    },
    {
     "data": {
      "image/png": "[encoded data removed]",
      "text/plain": [
       "<matplotlib.figure.Figure at 0x7f9653ce77f0>"
      ]
     },
     "metadata": {},
     "output_type": "display_data"
    }
   ],
   "source": [
    "ns = range(1,23)\n",
    "xvals = []\n",
    "for i in ns:\n",
    "    x = -math.log10(2**i)\n",
    "    xvals.append(x)\n",
    "es  = []\n",
    "for i in ns:\n",
    "    es.append(err(i))\n",
    "plt.scatter(xvals ,es)\n",
    "plt.ylabel('Log of Relative error')\n",
    "plt.xlabel('Log of Stepsize')"
   ]
  },
  {
   "cell_type": "code",
   "execution_count": null,
   "metadata": {
    "collapsed": false
   },
   "outputs": [],
   "source": [
    "err(8)"
   ]
  },
  {
   "cell_type": "code",
   "execution_count": null,
   "metadata": {
    "collapsed": false
   },
   "outputs": [],
   "source": []
  },
  {
   "cell_type": "code",
   "execution_count": null,
   "metadata": {
    "collapsed": false
   },
   "outputs": [],
   "source": []
  },
  {
   "cell_type": "code",
   "execution_count": null,
   "metadata": {
    "collapsed": true
   },
   "outputs": [],
   "source": []
  },
  {
   "cell_type": "code",
   "execution_count": null,
   "metadata": {
    "collapsed": true
   },
   "outputs": [],
   "source": []
  }
 ],
 "metadata": {
  "anaconda-cloud": {},
  "kernelspec": {
   "display_name": "Python [default]",
   "language": "python",
   "name": "python3"
  },
  "language_info": {
   "codemirror_mode": {
    "name": "ipython",
    "version": 3
   },
   "file_extension": ".py",
   "mimetype": "text/x-python",
   "name": "python",
   "nbconvert_exporter": "python",
   "pygments_lexer": "ipython3",
   "version": "3.5.2"
  }
 },
 "nbformat": 4,
 "nbformat_minor": 1
}
